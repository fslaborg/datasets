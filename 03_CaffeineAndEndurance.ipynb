
        {
            "cells": [
          {
           "cell_type": "markdown",
           "metadata": {},
           
           "source": ["// can\u0027t yet format YamlFrontmatter ([\"title: Caffeine and Endurance\"; \"category: Datasets\"; \"categoryindex: 1\"; \"index: 3\"], Some { StartLine = 2 StartColumn = 0 EndLine = 6 EndColumn = 8 }) to pynb markdown\n",
"\n",
"[![Binder](/datasets/img/badge-binder.svg)](https://mybinder.org/v2/gh/plotly/Plotly.NET/gh-pages?filepath=03_CaffeineAndEndurance.ipynb)\u0026emsp;\n",
"[![Script](/datasets/img/badge-script.svg)](/datasets/03_CaffeineAndEndurance.fsx)\u0026emsp;\n",
"[![Notebook](/datasets/img/badge-notebook.svg)](/datasets/03_CaffeineAndEndurance.ipynb)\n",
"\n",
"# The _Caffeine and Endurance_ dataset\n",
"\n",
"**Table of contents**\n",
"\n",
"- [Description]()\n",
"- [How to use]()\n",
"- [Examples]()\n",
"\n",
"## Description\n",
"\n",
"Endurance times for 9 well-trained cyclists, on each of 4 doses of caffeine (0, 5, 9, 13 mg) with 1 line per subject.  \n",
"Taken from [Lawrence H. Winner, University of Florida](http://archived.stat.ufl.edu/personnel/usrpages/winner.shtml):  \n",
"- [Data](http://users.stat.ufl.edu/~winner/data/caffeine1.dat)  \n",
"- [Description](http://users.stat.ufl.edu/~winner/data/caffeine1.txt)\n",
"\n",
"Original literature: W.J. Pasman, M.A. van Baak, A.E. Jeukendrup, A. de Haan (1995). \"The Effect of Different Dosages of Caffeine on Endurance Performance Time\", International Journal of Sports Medicine, Vol. 16, pp225-230.\n",
"\n",
"\n",
"## How to use\n",
"\n",
"\n"]
          }
,
          {
           "cell_type": "code",
           "metadata": {},
            "execution_count": 1, "outputs": [
          {
           "data": {
            "text/plain": ["Subject ID no Dose 5 mg  9 mg  13 mg ",
"0 -\u003e 1          36.05   42.47 51.5  37.55 ",
"1 -\u003e 2          52.47   85.15 65    59.3  ",
"2 -\u003e 3          56.55   63.2  73.1  79.12 ",
"3 -\u003e 4          45.2    52.1  64.4  58.33 ",
"4 -\u003e 5          35.25   66.2  57.45 70.54 ",
"5 -\u003e 6          66.38   73.25 76.49 69.47 ",
"6 -\u003e 7          40.57   44.5  40.55 46.48 ",
"7 -\u003e 8          57.15   57.17 66.47 66.35 ",
"8 -\u003e 9          28.34   35.05 33.17 36.2"]
        },
           "execution_count": 1,
           "metadata": {},
           "output_type": "execute_result"
          }], 
           "source": ["#r \"nuget: FSharp.Data\"\n",
"#r \"nuget: Deedle\"\n",
"\n",
"open FSharp.Data\n",
"open Deedle\n",
"open System.Text.RegularExpressions\n",
"\n",
"let rawDataCaffeine = Http.RequestString @\"https://raw.githubusercontent.com/fslaborg/datasets/main/data/CaffeineAndEndurance(wide).dat\"\n",
"// This data format features a char column-wise structure. To transform it into a seperator-delimited format, we have to replace the multiple spaces via Regex:\n",
"let regexCaffeine = [Regex(\"[ ]{2,}1\"), \"1\"; Regex(\"[ ]{2,}\"), \"\\t\"; Regex(\"\\n\\t\"), \"\\n\"]\n",
"let rawDataCaffeineAdapted = \n",
"    regexCaffeine\n",
"    |\u003e List.fold (fun acc (reg,rep) -\u003e reg.Replace(acc, rep)) rawDataCaffeine\n",
"\n",
"let df = Frame.ReadCsvString(rawDataCaffeineAdapted, hasHeaders = false, separators = \"\\t\", schema = \"Subject ID, no Dose, 5 mg, 9 mg, 13 mg\")\n",
"\n",
"// Otherwise, the following already adapted dataset can be used:\n",
"let rawData2 = Http.RequestString @\"https://raw.githubusercontent.com/fslaborg/datasets/main/data/CaffeineAndEndurance(wide)_adapted.tsv\"\n",
"\n",
"let df2 = Frame.ReadCsvString(rawData2, hasHeaders = false, separators = \"\\t\", schema = \"Subject ID, no Dose, 5 mg, 9 mg, 13 mg\")\n",
"\n",
"df2.Print()\n"]
          }
,
          {
           "cell_type": "markdown",
           "metadata": {},
           
           "source": ["## Examples\n",
"\n",
"This example is taken from the FsLab datascience tutorial [t-test]()\n",
"(WIP)\n",
"\n",
"\n"]
          }
,
          {
           "cell_type": "code",
           "metadata": {},
            "execution_count": 2, "outputs": [], 
           "source": ["#r \"nuget: FSharp.Stats, 0.4.2\"\n",
"#r \"nuget: Plotly.NET, 2.0.0-preview.6\"\n",
"\n",
"open FSharp.Stats\n",
"open FSharp.Stats.Testing\n",
"open Plotly.NET\n",
"\n",
"// We want to compare the subjects\u0027 performances under the influence of 13 mg caffeine and in the control situation.\n",
"let dataCaffeineNoDose, dataCaffeine13mg =\n",
"    let getVectorFromCol col = \n",
"        df2\n",
"        |\u003e Frame.getCol col\n",
"        |\u003e Series.values\n",
"        |\u003e vector\n",
"    getVectorFromCol \"no Dose\", getVectorFromCol \"13 mg\"\n",
"\n",
"// Transforming our data into a chart.\n",
"let visualizePairedData = \n",
"    Seq.zip dataCaffeineNoDose dataCaffeine13mg\n",
"    |\u003e Seq.mapi (fun i (control,treatment) -\u003e \n",
"        let participant = \"Person \" + string (i + 1)\n",
"        Chart.Line([\"no dose\", control; \"13 mg\", treatment], Name = participant)\n",
"        )\n",
"    |\u003e Chart.Combine\n",
"    |\u003e Chart.withX_AxisStyle \"\"\n",
"    |\u003e Chart.withY_AxisStyle(\"endurance performance\", MinMax = (0.,100.))\n"]
          }
,
          {
           "cell_type": "code",
           "metadata": {},
            "execution_count": null, "outputs": [
          {
           "data": {
            "text/html": ["\u003cdiv id=\"aa6de4d2-7619-4a1c-8286-93070d5daf78\" style=\"width: 600px; height: 600px;\"\u003e\u003c!-- Plotly chart will be drawn inside this DIV --\u003e\u003c/div\u003e",
"\u003cscript type=\"text/javascript\"\u003e",
"",
"            var renderPlotly_aa6de4d276194a1c828693070d5daf78 = function() {",
"            var fsharpPlotlyRequire = requirejs.config({context:\u0027fsharp-plotly\u0027,paths:{plotly:\u0027https://cdn.plot.ly/plotly-latest.min\u0027}}) || require;",
"            fsharpPlotlyRequire([\u0027plotly\u0027], function(Plotly) {",
"",
"            var data = [{\"type\":\"scatter\",\"x\":[\"no dose\",\"13 mg\"],\"y\":[36.05,37.55],\"mode\":\"lines\",\"line\":{},\"name\":\"Person 1\",\"marker\":{}},{\"type\":\"scatter\",\"x\":[\"no dose\",\"13 mg\"],\"y\":[52.47,59.3],\"mode\":\"lines\",\"line\":{},\"name\":\"Person 2\",\"marker\":{}},{\"type\":\"scatter\",\"x\":[\"no dose\",\"13 mg\"],\"y\":[56.55,79.12],\"mode\":\"lines\",\"line\":{},\"name\":\"Person 3\",\"marker\":{}},{\"type\":\"scatter\",\"x\":[\"no dose\",\"13 mg\"],\"y\":[45.2,58.33],\"mode\":\"lines\",\"line\":{},\"name\":\"Person 4\",\"marker\":{}},{\"type\":\"scatter\",\"x\":[\"no dose\",\"13 mg\"],\"y\":[35.25,70.54],\"mode\":\"lines\",\"line\":{},\"name\":\"Person 5\",\"marker\":{}},{\"type\":\"scatter\",\"x\":[\"no dose\",\"13 mg\"],\"y\":[66.38,69.47],\"mode\":\"lines\",\"line\":{},\"name\":\"Person 6\",\"marker\":{}},{\"type\":\"scatter\",\"x\":[\"no dose\",\"13 mg\"],\"y\":[40.57,46.48],\"mode\":\"lines\",\"line\":{},\"name\":\"Person 7\",\"marker\":{}},{\"type\":\"scatter\",\"x\":[\"no dose\",\"13 mg\"],\"y\":[57.15,66.35],\"mode\":\"lines\",\"line\":{},\"name\":\"Person 8\",\"marker\":{}},{\"type\":\"scatter\",\"x\":[\"no dose\",\"13 mg\"],\"y\":[28.34,36.2],\"mode\":\"lines\",\"line\":{},\"name\":\"Person 9\",\"marker\":{}}];",
"            var layout = {\"xaxis\":{\"title\":\"\"},\"yaxis\":{\"title\":\"endurance performance\",\"range\":[0.0,100.0]}};",
"            var config = {};",
"            Plotly.newPlot(\u0027aa6de4d2-7619-4a1c-8286-93070d5daf78\u0027, data, layout, config);",
"});",
"            };",
"            if ((typeof(requirejs) !==  typeof(Function)) || (typeof(requirejs.config) !== typeof(Function))) {",
"                var script = document.createElement(\"script\");",
"                script.setAttribute(\"src\", \"https://cdnjs.cloudflare.com/ajax/libs/require.js/2.3.6/require.min.js\");",
"                script.onload = function(){",
"                    renderPlotly_aa6de4d276194a1c828693070d5daf78();",
"                };",
"                document.getElementsByTagName(\"head\")[0].appendChild(script);",
"            }",
"            else {",
"                renderPlotly_aa6de4d276194a1c828693070d5daf78();",
"            }",
"\u003c/script\u003e",
""]
        },
           "execution_count": null,
           "metadata": {},
           "output_type": "execute_result"
          }], 
           "source": ["visualizePairedData\n"]
          }
,
          {
           "cell_type": "code",
           "metadata": {},
            "execution_count": 4, "outputs": [
          {
           "data": {
            "text/plain": ["{ Statistic = 3.252507672",
"  DegreesOfFreedom = 8.0",
"  PValueLeft = 0.9941713794",
"  PValueRight = 0.005828620625",
"  PValue = 0.01165724125 }"]
        },
           "execution_count": 4,
           "metadata": {},
           "output_type": "execute_result"
          }], 
           "source": ["let twoSamplePairedResult = TTest.twoSamplePaired dataCaffeineNoDose dataCaffeine13mg\n"]
          }],
            "metadata": {
            "kernelspec": {"display_name": ".NET (F#)", "language": "F#", "name": ".net-fsharp"},
            "langauge_info": {
        "file_extension": ".fs",
        "mimetype": "text/x-fsharp",
        "name": "C#",
        "pygments_lexer": "fsharp",
        "version": "4.5"
        }
        },
            "nbformat": 4,
            "nbformat_minor": 1
        }
        

