
        {
            "cells": [
          {
           "cell_type": "markdown",
           "metadata": {},
           
           "source": ["// can\u0027t yet format YamlFrontmatter ([\"title: Concussions in Male and Female College Athletes\"; \"category: Datasets\"; \"categoryindex: 1\"; \"index: 2\"], Some { StartLine = 2 StartColumn = 0 EndLine = 6 EndColumn = 8 }) to pynb markdown\n",
"\n",
"[![Binder](/datasets/img/badge-binder.svg)](https://mybinder.org/v2/gh/plotly/Plotly.NET/gh-pages?filepath=02_ConcussionsInMaleAndFemaleCollegeAthletes.ipynb)\u0026emsp;\n",
"[![Script](/datasets/img/badge-script.svg)](/datasets/02_ConcussionsInMaleAndFemaleCollegeAthletes.fsx)\u0026emsp;\n",
"[![Notebook](/datasets/img/badge-notebook.svg)](/datasets/02_ConcussionsInMaleAndFemaleCollegeAthletes.ipynb)\n",
"\n",
"# The _Concussions in Male and Female College Athletes_ dataset\n",
"\n",
"**Table of contents**\n",
"\n",
"- [Description]()\n",
"- [How to use]()\n",
"- [Examples]()\n",
"\n",
"## Description\n",
"\n",
"Counts of Concussions among collegiate athletes in 5 sports for 3 years by gender.  \n",
"Taken from [Lawrence H. Winner, University of Florida](http://archived.stat.ufl.edu/personnel/usrpages/winner.shtml):  \n",
"- [Data](http://users.stat.ufl.edu/~winner/data/concussion.dat)  \n",
"- [Description](http://users.stat.ufl.edu/~winner/data/concussion.txt)\n",
"\n",
"Original literature: T. Covassin, C.B. Swanik, M.L. Sachs (2003). \"Sex Differences and the Incidence of Concussions Among Collegiate Athletes\", Journal of Athletic Training, Vol. (38)3, pp238-244\n",
"\n",
"\n",
"## How to use\n",
"\n",
"\n"]
          }
,
          {
           "cell_type": "code",
           "metadata": {},
            "execution_count": 1, "outputs": [
          {
           "data": {
            "text/plain": ["Gender Sports            Year Concussion Count ",
"0  -\u003e Female Soccer            1997 False      24930 ",
"1  -\u003e Female Soccer            1997 True       51    ",
"2  -\u003e Female Soccer            1998 False      22887 ",
"3  -\u003e Female Soccer            1998 True       47    ",
"4  -\u003e Female Soccer            1999 False      27107 ",
"5  -\u003e Female Soccer            1999 True       60    ",
"6  -\u003e Female Lacrosse          1997 False      8750  ",
"7  -\u003e Female Lacrosse          1997 True       12    ",
"8  -\u003e Female Lacrosse          1998 False      7115  ",
"9  -\u003e Female Lacrosse          1998 True       7     ",
"10 -\u003e Female Lacrosse          1999 False      8524  ",
"11 -\u003e Female Lacrosse          1999 True       7     ",
"12 -\u003e Female Basketball        1997 False      29397 ",
"13 -\u003e Female Basketball        1997 True       16    ",
"14 -\u003e Female Basketball        1998 False      38144 ",
":     ...    ...               ...  ...        ...   ",
"45 -\u003e Male   Basketball        1998 True       21    ",
"46 -\u003e Male   Basketball        1999 False      32816 ",
"47 -\u003e Male   Basketball        1999 True       20    ",
"48 -\u003e Male   Softball/Baseball 1997 False      51329 ",
"49 -\u003e Male   Softball/Baseball 1997 True       22    ",
"50 -\u003e Male   Softball/Baseball 1998 False      49201 ",
"51 -\u003e Male   Softball/Baseball 1998 True       6     ",
"52 -\u003e Male   Softball/Baseball 1999 False      80190 ",
"53 -\u003e Male   Softball/Baseball 1999 True       25    ",
"54 -\u003e Male   Gymnastics        1997 False      227   ",
"55 -\u003e Male   Gymnastics        1997 True       0     ",
"56 -\u003e Male   Gymnastics        1998 False      221   ",
"57 -\u003e Male   Gymnastics        1998 True       0     ",
"58 -\u003e Male   Gymnastics        1999 False      1179  ",
"59 -\u003e Male   Gymnastics        1999 True       0"]
        },
           "execution_count": 1,
           "metadata": {},
           "output_type": "execute_result"
          }], 
           "source": ["#r \"nuget: FSharp.Data\"\n",
"#r \"nuget: Deedle\"\n",
"\n",
"open FSharp.Data\n",
"open Deedle\n",
"open System.Text.RegularExpressions\n",
"\n",
"let rawData = Http.RequestString @\"https://raw.githubusercontent.com/fslaborg/datasets/main/data/ConcussionsInMaleAndFemaleCollegeAthletes.dat\"\n",
"\n",
"// This data format features a char column-wise structure. To transform it into a seperator-delimited format, we have to replace the multiple spaces via Regex:\n",
"let regex = Regex(\"[ ]{2,}\")\n",
"let rawDataAdapted = regex.Replace(rawData, \"\\t\")\n",
"\n",
"let df = Frame.ReadCsvString(rawDataAdapted, hasHeaders = false, separators = \"\\t\", schema = \"Gender, Sports, Year, Concussion, Count\")\n",
"\n",
"// Otherwise, the following already adapted dataset can be used:\n",
"let rawData2 = Http.RequestString @\"https://raw.githubusercontent.com/fslaborg/datasets/main/data/ConcussionsInMaleAndFemaleCollegeAthletes_adapted.tsv\"\n",
"\n",
"let df2 = Frame.ReadCsvString(rawData2, hasHeaders = false, separators = \"\\t\", schema = \"Gender, Sports, Year, Concussion, Count\")\n",
"\n",
"df2.Print()\n"]
          }
,
          {
           "cell_type": "markdown",
           "metadata": {},
           
           "source": ["## Examples\n",
"\n",
"This example is taken from the FsLab datascience tutorial [t-test]()\n",
"(WIP)\n",
"\n",
"\n"]
          }
,
          {
           "cell_type": "code",
           "metadata": {},
            "execution_count": 2, "outputs": [], 
           "source": ["#r \"nuget: FSharp.Stats, 0.4.2\"\n",
"#r \"nuget: Plotly.NET, 2.0.0-preview.6\"\n",
"\n",
"open FSharp.Stats\n",
"open FSharp.Stats.Testing\n",
"open Plotly.NET\n",
"\n",
"// We need to filter out the columns and rows we don\u0027t need. Thus, we filter out the rows where the athletes suffered no concussions as well as filter out the columns without the number of concussions.\n",
"let dataAthletesFemale, dataAthletesMale =\n",
"    let getAthleteGenderData gender =\n",
"        let dataAthletesOnlyConcussion =\n",
"            df2\n",
"            |\u003e Frame.filterRows (fun r objS -\u003e objS.GetAs \"Concussion\")\n",
"        let dataAthletesGenderFrame =\n",
"            dataAthletesOnlyConcussion\n",
"            |\u003e Frame.filterRows (fun r objS -\u003e objS.GetAs \"Gender\" = gender)\n",
"        dataAthletesGenderFrame\n",
"        |\u003e Frame.getCol \"Count\" \n",
"        |\u003e Series.values\n",
"        |\u003e vector\n",
"    getAthleteGenderData \"Female\", getAthleteGenderData \"Male\"\n",
"\n",
"let boxPlot = \n",
"    [\n",
"        Chart.BoxPlot(y = dataAthletesFemale, Name = \"female college athletes\", Boxpoints = StyleParam.Boxpoints.All, Jitter = 0.2)\n",
"        Chart.BoxPlot(y = dataAthletesMale, Name = \"male college athletes\", Boxpoints = StyleParam.Boxpoints.All, Jitter = 0.2)\n",
"    ]\n",
"    |\u003e Chart.Combine\n",
"    |\u003e Chart.withY_AxisStyle \"number of concussions over 3 years\"\n"]
          }
,
          {
           "cell_type": "code",
           "metadata": {},
            "execution_count": null, "outputs": [
          {
           "data": {
            "text/html": ["\u003cdiv id=\"6c12b61e-5f82-43f7-a538-7d6a85d328cc\" style=\"width: 600px; height: 600px;\"\u003e\u003c!-- Plotly chart will be drawn inside this DIV --\u003e\u003c/div\u003e",
"\u003cscript type=\"text/javascript\"\u003e",
"",
"            var renderPlotly_6c12b61e5f8243f7a5387d6a85d328cc = function() {",
"            var fsharpPlotlyRequire = requirejs.config({context:\u0027fsharp-plotly\u0027,paths:{plotly:\u0027https://cdn.plot.ly/plotly-latest.min\u0027}}) || require;",
"            fsharpPlotlyRequire([\u0027plotly\u0027], function(Plotly) {",
"",
"            var data = [{\"type\":\"box\",\"y\":[51.0,47.0,60.0,12.0,7.0,7.0,16.0,30.0,26.0,9.0,10.0,28.0,1.0,0.0,0.0],\"boxpoints\":\"all\",\"jitter\":0.2,\"name\":\"female college athletes\",\"marker\":{}},{\"type\":\"box\",\"y\":[34.0,27.0,40.0,19.0,15.0,17.0,8.0,21.0,20.0,22.0,6.0,25.0,0.0,0.0,0.0],\"boxpoints\":\"all\",\"jitter\":0.2,\"name\":\"male college athletes\",\"marker\":{}}];",
"            var layout = {\"yaxis\":{\"title\":\"number of concussions over 3 years\"}};",
"            var config = {};",
"            Plotly.newPlot(\u00276c12b61e-5f82-43f7-a538-7d6a85d328cc\u0027, data, layout, config);",
"});",
"            };",
"            if ((typeof(requirejs) !==  typeof(Function)) || (typeof(requirejs.config) !== typeof(Function))) {",
"                var script = document.createElement(\"script\");",
"                script.setAttribute(\"src\", \"https://cdnjs.cloudflare.com/ajax/libs/require.js/2.3.6/require.min.js\");",
"                script.onload = function(){",
"                    renderPlotly_6c12b61e5f8243f7a5387d6a85d328cc();",
"                };",
"                document.getElementsByTagName(\"head\")[0].appendChild(script);",
"            }",
"            else {",
"                renderPlotly_6c12b61e5f8243f7a5387d6a85d328cc();",
"            }",
"\u003c/script\u003e",
""]
        },
           "execution_count": null,
           "metadata": {},
           "output_type": "execute_result"
          }], 
           "source": ["boxPlot\n"]
          }
,
          {
           "cell_type": "code",
           "metadata": {},
            "execution_count": 4, "outputs": [
          {
           "data": {
            "text/plain": ["{ Statistic = 0.5616104016",
"  DegreesOfFreedom = 28.0",
"  PValueLeft = 0.7105752703",
"  PValueRight = 0.2894247297",
"  PValue = 0.5788494593 }"]
        },
           "execution_count": 4,
           "metadata": {},
           "output_type": "execute_result"
          }], 
           "source": ["open FSharp.Stats.Testing\n",
"\n",
"// We test both samples against each other, assuming equal variances.\n",
"let twoSampleResult = TTest.twoSample true dataAthletesFemale dataAthletesMale\n"]
          }],
            "metadata": {
            "kernelspec": {"display_name": ".NET (F#)", "language": "F#", "name": ".net-fsharp"},
            "langauge_info": {
        "file_extension": ".fs",
        "mimetype": "text/x-fsharp",
        "name": "C#",
        "pygments_lexer": "fsharp",
        "version": "4.5"
        }
        },
            "nbformat": 4,
            "nbformat_minor": 1
        }
        

