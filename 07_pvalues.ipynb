
        {
            "cells": [
          {
           "cell_type": "markdown",
           "metadata": {},
           
           "source": ["// can\u0027t yet format YamlFrontmatter ([\"title: pvalues\"; \"category: Datasets\"; \"categoryindex: 1\"; \"index: 7\"], Some { StartLine = 2 StartColumn = 0 EndLine = 6 EndColumn = 8 }) to pynb markdown\n",
"\n",
"[![Binder](/datasets/img/badge-binder.svg)](https://mybinder.org/v2/gh/plotly/Plotly.NET/gh-pages?filepath=07_pvalues.ipynb)\u0026emsp;\n",
"[![Script](/datasets/img/badge-script.svg)](/datasets/07_pvalues.fsx)\u0026emsp;\n",
"[![Notebook](/datasets/img/badge-notebook.svg)](/datasets/07_pvalues.ipynb)\n",
"\n",
"# Description\n",
"\n",
"Thousands of features were measured in triplicates at a control and treatment condition. 9856 comparisons were conducted with t tests and the p values were isolated. \n",
"The p valued distribution does not follow an uniform distribution because there are true effects for a majority of the tested features .\n",
"\n",
"# How to use\n",
"\n",
"\n"]
          }
,
          {
           "cell_type": "code",
           "metadata": {},
            "execution_count": 1, "outputs": [
          {
           "data": {
            "text/plain": [""]
        },
           "execution_count": 1,
           "metadata": {},
           "output_type": "execute_result"
          }], 
           "source": ["#r \"nuget: FSharp.Data\"\n",
"\n",
"\n",
"open FSharp.Data\n",
"\n",
"\n",
"let rawData = Http.RequestString @\"https://raw.githubusercontent.com/bvenn/datasets/main/data/pvalExample.txt\"\n",
"\n",
"let pvalues = \n",
"    rawData.Split \u0027\\n\u0027\n",
"    |\u003e Array.tail\n",
"    |\u003e Array.filter (fun x -\u003e x \u003c\u003e \"\")\n",
"    |\u003e Array.map float\n",
"\n",
"pvalues\n"]
          }],
            "metadata": {
            "kernelspec": {"display_name": ".NET (F#)", "language": "F#", "name": ".net-fsharp"},
            "langauge_info": {
        "file_extension": ".fs",
        "mimetype": "text/x-fsharp",
        "name": "C#",
        "pygments_lexer": "fsharp",
        "version": "4.5"
        }
        },
            "nbformat": 4,
            "nbformat_minor": 1
        }
        

