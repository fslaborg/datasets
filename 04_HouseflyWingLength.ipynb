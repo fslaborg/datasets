
        {
            "cells": [
          {
           "cell_type": "markdown",
           "metadata": {},
           
           "source": ["// can\u0027t yet format YamlFrontmatter ([\"title: Housefly Wing Length\"; \"category: Datasets\"; \"categoryindex: 1\"; \"index: 4\"], Some { StartLine = 2 StartColumn = 0 EndLine = 6 EndColumn = 8 }) to pynb markdown\n",
"\n",
"[![Binder](/datasets/img/badge-binder.svg)](https://mybinder.org/v2/gh/plotly/Plotly.NET/gh-pages?filepath=04_HouseflyWingLength.ipynb)\u0026emsp;\n",
"[![Script](/datasets/img/badge-script.svg)](/datasets/04_HouseflyWingLength.fsx)\u0026emsp;\n",
"[![Notebook](/datasets/img/badge-notebook.svg)](/datasets/04_HouseflyWingLength.ipynb)\n",
"\n",
"# The _Housefly Wing Length_ dataset\n",
"\n",
"**Table of contents**\n",
"\n",
"- [Description]()\n",
"- [How to use]()\n",
"- [Examples]()\n",
"\n",
"## Description\n",
"\n",
"Measured wing lengths of 100 houseflies in mm * 10^1.  \n",
"Taken from https://seattlecentral.edu/qelp/sets/057/057.html\n",
"\n",
"Original literature: Sokal, R.R. and P.E. Hunter. 1955. \"A morphometric analysis of DDT-resistant and non-resistant housefly strains\" Ann. Entomol. Soc. Amer. 48: 499-507.\n",
"\n",
"\n",
"## How to use\n",
"\n",
"\n"]
          }
,
          {
           "cell_type": "code",
           "metadata": {},
            "execution_count": 1, "outputs": [
          {
           "data": {
            "text/plain": ["wing length (mm * 10^1) ",
"0  -\u003e 36                      ",
"1  -\u003e 37                      ",
"2  -\u003e 38                      ",
"3  -\u003e 38                      ",
"4  -\u003e 39                      ",
"5  -\u003e 39                      ",
"6  -\u003e 40                      ",
"7  -\u003e 40                      ",
"8  -\u003e 40                      ",
"9  -\u003e 40                      ",
"10 -\u003e 41                      ",
"11 -\u003e 41                      ",
"12 -\u003e 41                      ",
"13 -\u003e 41                      ",
"14 -\u003e 41                      ",
":     ...                     ",
"85 -\u003e 50                      ",
"86 -\u003e 50                      ",
"87 -\u003e 50                      ",
"88 -\u003e 50                      ",
"89 -\u003e 50                      ",
"90 -\u003e 51                      ",
"91 -\u003e 51                      ",
"92 -\u003e 51                      ",
"93 -\u003e 51                      ",
"94 -\u003e 52                      ",
"95 -\u003e 52                      ",
"96 -\u003e 53                      ",
"97 -\u003e 53                      ",
"98 -\u003e 54                      ",
"99 -\u003e 55"]
        },
           "execution_count": 1,
           "metadata": {},
           "output_type": "execute_result"
          }], 
           "source": ["#r \"nuget: FSharp.Data\"\n",
"#r \"nuget: Deedle\"\n",
"\n",
"open FSharp.Data\n",
"open Deedle\n",
"\n",
"let rawData = Http.RequestString @\"https://raw.githubusercontent.com/fslaborg/datasets/main/data/HouseflyWingLength.txt\"\n",
"\n",
"let df = Frame.ReadCsvString(rawData, hasHeaders = false, schema = \"wing length (mm * 10^1)\")\n",
"\n",
"df.Print()\n"]
          }
,
          {
           "cell_type": "markdown",
           "metadata": {},
           
           "source": ["## Examples\n",
"\n",
"This example is taken from the FsLab datascience tutorial [t-test]()\n",
"(WIP)\n",
"\n",
"\n"]
          }
,
          {
           "cell_type": "code",
           "metadata": {},
            "execution_count": 2, "outputs": [], 
           "source": ["#r \"nuget: FSharp.Stats, 0.4.2\"\n",
"#r \"nuget: Plotly.NET, 2.0.0-preview.6\"\n",
"\n",
"open FSharp.Stats\n",
"open FSharp.Stats.Testing\n",
"open Plotly.NET\n",
"\n",
"let seqDataHousefly =\n",
"    df\n",
"    |\u003e Frame.getCol \"wing length (mm * 10^1)\"\n",
"    |\u003e Series.values\n",
"    // We convert the values to mm\n",
"    |\u003e Seq.map (fun x -\u003e x / 10.)\n",
"\n",
"let boxPlot = \n",
"    Chart.BoxPlot(y = seqDataHousefly, Name = \"housefly\", Boxpoints = StyleParam.Boxpoints.All, Jitter = 0.2)\n",
"    |\u003e Chart.withY_AxisStyle \"wing length [mm]\"\n"]
          }
,
          {
           "cell_type": "code",
           "metadata": {},
            "execution_count": null, "outputs": [
          {
           "data": {
            "text/html": ["\u003cdiv id=\"cfc65ccb-b775-4ace-b316-9cf3e32fd35a\" style=\"width: 600px; height: 600px;\"\u003e\u003c!-- Plotly chart will be drawn inside this DIV --\u003e\u003c/div\u003e",
"\u003cscript type=\"text/javascript\"\u003e",
"",
"            var renderPlotly_cfc65ccbb7754aceb3169cf3e32fd35a = function() {",
"            var fsharpPlotlyRequire = requirejs.config({context:\u0027fsharp-plotly\u0027,paths:{plotly:\u0027https://cdn.plot.ly/plotly-latest.min\u0027}}) || require;",
"            fsharpPlotlyRequire([\u0027plotly\u0027], function(Plotly) {",
"",
"            var data = [{\"type\":\"box\",\"y\":[3.6,3.7,3.8,3.8,3.9,3.9,4.0,4.0,4.0,4.0,4.1,4.1,4.1,4.1,4.1,4.1,4.2,4.2,4.2,4.2,4.2,4.2,4.2,4.3,4.3,4.3,4.3,4.3,4.3,4.3,4.3,4.4,4.4,4.4,4.4,4.4,4.4,4.4,4.4,4.4,4.5,4.5,4.5,4.5,4.5,4.5,4.5,4.5,4.5,4.5,4.6,4.6,4.6,4.6,4.6,4.6,4.6,4.6,4.6,4.6,4.7,4.7,4.7,4.7,4.7,4.7,4.7,4.7,4.7,4.8,4.8,4.8,4.8,4.8,4.8,4.8,4.8,4.9,4.9,4.9,4.9,4.9,4.9,4.9,5.0,5.0,5.0,5.0,5.0,5.0,5.1,5.1,5.1,5.1,5.2,5.2,5.3,5.3,5.4,5.5],\"boxpoints\":\"all\",\"jitter\":0.2,\"name\":\"housefly\",\"marker\":{}}];",
"            var layout = {\"yaxis\":{\"title\":\"wing length [mm]\"}};",
"            var config = {};",
"            Plotly.newPlot(\u0027cfc65ccb-b775-4ace-b316-9cf3e32fd35a\u0027, data, layout, config);",
"});",
"            };",
"            if ((typeof(requirejs) !==  typeof(Function)) || (typeof(requirejs.config) !== typeof(Function))) {",
"                var script = document.createElement(\"script\");",
"                script.setAttribute(\"src\", \"https://cdnjs.cloudflare.com/ajax/libs/require.js/2.3.6/require.min.js\");",
"                script.onload = function(){",
"                    renderPlotly_cfc65ccbb7754aceb3169cf3e32fd35a();",
"                };",
"                document.getElementsByTagName(\"head\")[0].appendChild(script);",
"            }",
"            else {",
"                renderPlotly_cfc65ccbb7754aceb3169cf3e32fd35a();",
"            }",
"\u003c/script\u003e",
""]
        },
           "execution_count": null,
           "metadata": {},
           "output_type": "execute_result"
          }], 
           "source": ["boxPlot\n"]
          }
,
          {
           "cell_type": "code",
           "metadata": {},
            "execution_count": 4, "outputs": [
          {
           "data": {
            "text/plain": ["{ Statistic = 1.275624919",
"  DegreesOfFreedom = 99.0",
"  PValueLeft = 0.8974634108",
"  PValueRight = 0.1025365892",
"  PValue = 0.2050731784 }"]
        },
           "execution_count": 4,
           "metadata": {},
           "output_type": "execute_result"
          }], 
           "source": ["// The testing module in FSharp.Stats require vectors as input types, thus we transform our array into a vector:\n",
"let vectorDataHousefly = vector seqDataHousefly\n",
"\n",
"// The expected value of our population.\n",
"let expectedValue = 4.5\n",
"\n",
"// Perform the one-sample t-test with our vectorized data and our exptected value as parameters.\n",
"let oneSampleResult = TTest.oneSample vectorDataHousefly expectedValue\n"]
          }],
            "metadata": {
            "kernelspec": {"display_name": ".NET (F#)", "language": "F#", "name": ".net-fsharp"},
            "langauge_info": {
        "file_extension": ".fs",
        "mimetype": "text/x-fsharp",
        "name": "C#",
        "pygments_lexer": "fsharp",
        "version": "4.5"
        }
        },
            "nbformat": 4,
            "nbformat_minor": 1
        }
        

